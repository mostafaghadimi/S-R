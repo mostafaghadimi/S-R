{
 "cells": [
  {
   "cell_type": "markdown",
   "metadata": {},
   "source": [
    "## Importing packages"
   ]
  },
  {
   "cell_type": "code",
   "execution_count": 65,
   "metadata": {
    "ExecuteTime": {
     "end_time": "2020-10-13T20:31:03.460085Z",
     "start_time": "2020-10-13T20:31:03.450196Z"
    }
   },
   "outputs": [],
   "source": [
    "import seaborn as sns\n",
    "import math\n",
    "from scipy.signal import find_peaks\n",
    "import pandas_datareader as web\n",
    "import numpy as np\n",
    "import pandas as pd\n",
    "import talib as ta\n",
    "import mplfinance as mpf\n",
    "import matplotlib.pyplot as plt\n",
    "import matplotlib.ticker as ticker\n",
    "%matplotlib inline"
   ]
  },
  {
   "cell_type": "markdown",
   "metadata": {},
   "source": [
    "## Matplotlib figure size"
   ]
  },
  {
   "cell_type": "code",
   "execution_count": 94,
   "metadata": {
    "ExecuteTime": {
     "end_time": "2020-10-13T20:39:22.350010Z",
     "start_time": "2020-10-13T20:39:22.337233Z"
    }
   },
   "outputs": [],
   "source": [
    "from IPython.core.pylabtools import figsize\n",
    "figsize(16, 10)"
   ]
  },
  {
   "cell_type": "markdown",
   "metadata": {},
   "source": [
    "## Seaborn figure size"
   ]
  },
  {
   "cell_type": "code",
   "execution_count": 2,
   "metadata": {
    "ExecuteTime": {
     "end_time": "2020-10-13T14:00:05.554502Z",
     "start_time": "2020-10-13T14:00:05.547938Z"
    }
   },
   "outputs": [],
   "source": [
    "sns.set(rc={'figure.figsize':(16, 10)})"
   ]
  },
  {
   "cell_type": "markdown",
   "metadata": {},
   "source": [
    "## Sample Dataset"
   ]
  },
  {
   "cell_type": "code",
   "execution_count": 3,
   "metadata": {
    "ExecuteTime": {
     "end_time": "2020-10-13T14:02:02.737363Z",
     "start_time": "2020-10-13T14:01:45.618096Z"
    }
   },
   "outputs": [],
   "source": [
    "stocks_name = ['VTI', 'VXUS', 'AMZN', 'GOOGL', 'FB', 'ISRG', 'AAPL']\n",
    "\n",
    "df_stocks = {}\n",
    "for stock in stocks_name:\n",
    "    df_ = web.DataReader(stock, data_source='yahoo', start='2010-1-1', end='2020-12-31')\n",
    "    df_stocks[stock] = df_"
   ]
  },
  {
   "cell_type": "code",
   "execution_count": 4,
   "metadata": {
    "ExecuteTime": {
     "end_time": "2020-10-13T14:02:02.742338Z",
     "start_time": "2020-10-13T14:02:02.739517Z"
    }
   },
   "outputs": [],
   "source": [
    "df = df_stocks['GOOGL']"
   ]
  },
  {
   "cell_type": "code",
   "execution_count": 5,
   "metadata": {
    "ExecuteTime": {
     "end_time": "2020-10-13T14:02:08.958328Z",
     "start_time": "2020-10-13T14:02:08.928960Z"
    }
   },
   "outputs": [
    {
     "data": {
      "text/html": [
       "<div>\n",
       "<style scoped>\n",
       "    .dataframe tbody tr th:only-of-type {\n",
       "        vertical-align: middle;\n",
       "    }\n",
       "\n",
       "    .dataframe tbody tr th {\n",
       "        vertical-align: top;\n",
       "    }\n",
       "\n",
       "    .dataframe thead th {\n",
       "        text-align: right;\n",
       "    }\n",
       "</style>\n",
       "<table border=\"1\" class=\"dataframe\">\n",
       "  <thead>\n",
       "    <tr style=\"text-align: right;\">\n",
       "      <th></th>\n",
       "      <th>High</th>\n",
       "      <th>Low</th>\n",
       "      <th>Open</th>\n",
       "      <th>Close</th>\n",
       "      <th>Volume</th>\n",
       "      <th>Adj Close</th>\n",
       "    </tr>\n",
       "    <tr>\n",
       "      <th>Date</th>\n",
       "      <th></th>\n",
       "      <th></th>\n",
       "      <th></th>\n",
       "      <th></th>\n",
       "      <th></th>\n",
       "      <th></th>\n",
       "    </tr>\n",
       "  </thead>\n",
       "  <tbody>\n",
       "    <tr>\n",
       "      <th>2020-10-07</th>\n",
       "      <td>1468.969971</td>\n",
       "      <td>1433.229980</td>\n",
       "      <td>1459.310059</td>\n",
       "      <td>1459.140015</td>\n",
       "      <td>1805400.0</td>\n",
       "      <td>1459.140015</td>\n",
       "    </tr>\n",
       "    <tr>\n",
       "      <th>2020-10-08</th>\n",
       "      <td>1488.030029</td>\n",
       "      <td>1465.449951</td>\n",
       "      <td>1465.449951</td>\n",
       "      <td>1483.430054</td>\n",
       "      <td>1303800.0</td>\n",
       "      <td>1483.430054</td>\n",
       "    </tr>\n",
       "    <tr>\n",
       "      <th>2020-10-09</th>\n",
       "      <td>1511.849976</td>\n",
       "      <td>1487.000000</td>\n",
       "      <td>1492.859985</td>\n",
       "      <td>1510.449951</td>\n",
       "      <td>1648300.0</td>\n",
       "      <td>1510.449951</td>\n",
       "    </tr>\n",
       "    <tr>\n",
       "      <th>2020-10-12</th>\n",
       "      <td>1588.420044</td>\n",
       "      <td>1529.300049</td>\n",
       "      <td>1538.000000</td>\n",
       "      <td>1564.589966</td>\n",
       "      <td>2766500.0</td>\n",
       "      <td>1564.589966</td>\n",
       "    </tr>\n",
       "    <tr>\n",
       "      <th>2020-10-13</th>\n",
       "      <td>1585.160034</td>\n",
       "      <td>1574.349976</td>\n",
       "      <td>1577.010010</td>\n",
       "      <td>1579.913208</td>\n",
       "      <td>453190.0</td>\n",
       "      <td>1579.913208</td>\n",
       "    </tr>\n",
       "  </tbody>\n",
       "</table>\n",
       "</div>"
      ],
      "text/plain": [
       "                   High          Low         Open        Close     Volume  \\\n",
       "Date                                                                        \n",
       "2020-10-07  1468.969971  1433.229980  1459.310059  1459.140015  1805400.0   \n",
       "2020-10-08  1488.030029  1465.449951  1465.449951  1483.430054  1303800.0   \n",
       "2020-10-09  1511.849976  1487.000000  1492.859985  1510.449951  1648300.0   \n",
       "2020-10-12  1588.420044  1529.300049  1538.000000  1564.589966  2766500.0   \n",
       "2020-10-13  1585.160034  1574.349976  1577.010010  1579.913208   453190.0   \n",
       "\n",
       "              Adj Close  \n",
       "Date                     \n",
       "2020-10-07  1459.140015  \n",
       "2020-10-08  1483.430054  \n",
       "2020-10-09  1510.449951  \n",
       "2020-10-12  1564.589966  \n",
       "2020-10-13  1579.913208  "
      ]
     },
     "execution_count": 5,
     "metadata": {},
     "output_type": "execute_result"
    }
   ],
   "source": [
    "df.tail()"
   ]
  },
  {
   "cell_type": "markdown",
   "metadata": {},
   "source": [
    "## Window size"
   ]
  },
  {
   "cell_type": "code",
   "execution_count": 61,
   "metadata": {
    "ExecuteTime": {
     "end_time": "2020-10-13T20:30:09.632236Z",
     "start_time": "2020-10-13T20:30:09.621830Z"
    }
   },
   "outputs": [],
   "source": [
    "window_size = 500\n",
    "close = df[\"Close\"]\n",
    "close_windowed = close[-window_size:]"
   ]
  },
  {
   "cell_type": "markdown",
   "metadata": {},
   "source": [
    "## Finding Peaks"
   ]
  },
  {
   "cell_type": "code",
   "execution_count": 85,
   "metadata": {
    "ExecuteTime": {
     "end_time": "2020-10-13T20:37:02.133750Z",
     "start_time": "2020-10-13T20:37:02.130328Z"
    }
   },
   "outputs": [],
   "source": [
    "def pick_finder(prices):\n",
    "    maximas, _ = find_peaks(prices, prominence=10)\n",
    "    minimas, _ = find_peaks(-prices, prominence=10)\n",
    "    return maximas, minimas"
   ]
  },
  {
   "cell_type": "code",
   "execution_count": 160,
   "metadata": {
    "ExecuteTime": {
     "end_time": "2020-10-13T22:37:40.940304Z",
     "start_time": "2020-10-13T22:37:40.930394Z"
    }
   },
   "outputs": [],
   "source": [
    "maximas, minimas = pick_finder(close_windowed)\n",
    "all_peaks_indices = list(maximas) + list(minimas)"
   ]
  },
  {
   "cell_type": "markdown",
   "metadata": {},
   "source": [
    "## Bucket Method"
   ]
  },
  {
   "cell_type": "code",
   "execution_count": 207,
   "metadata": {
    "ExecuteTime": {
     "end_time": "2020-10-13T22:55:18.394066Z",
     "start_time": "2020-10-13T22:55:18.363262Z"
    }
   },
   "outputs": [],
   "source": [
    "def bucketing(prices, bucket_no, peaks=False):\n",
    "    buckets = dict()\n",
    "    \n",
    "    if peaks:\n",
    "        min_price = int(min(close_windowed[prices]))\n",
    "        max_price = int(max(close_windowed[prices]))\n",
    "        threshold = int((max_price - min_price) // bucket_no)\n",
    "    \n",
    "    else:\n",
    "        max_price = int(max(prices))\n",
    "        min_price = int(min(prices))\n",
    "        threshold = int((max_price - min_price) // bucket_no)\n",
    "    \n",
    "    for index in range(min_price, max_price, threshold):\n",
    "        buckets[index] = list()\n",
    "\n",
    "    for price in prices:\n",
    "        if peaks:\n",
    "            price = close_windowed[price]\n",
    "        \n",
    "        index = int(((price - min_price) // threshold) * threshold + min_price)\n",
    "        buckets[index].append(price)\n",
    "        \n",
    "    buckets_dist = {key: len(value) for key, value in buckets.items()}\n",
    "    \n",
    "    return buckets, buckets_dist"
   ]
  },
  {
   "cell_type": "code",
   "execution_count": 218,
   "metadata": {
    "ExecuteTime": {
     "end_time": "2020-10-13T23:24:37.099868Z",
     "start_time": "2020-10-13T23:24:37.089123Z"
    }
   },
   "outputs": [],
   "source": [
    "buckets, buckets_dist = bucketing(close_windowed, 100)"
   ]
  },
  {
   "cell_type": "markdown",
   "metadata": {},
   "source": [
    "## Bucket vs Peaks"
   ]
  },
  {
   "cell_type": "code",
   "execution_count": 210,
   "metadata": {
    "ExecuteTime": {
     "end_time": "2020-10-13T22:55:41.712815Z",
     "start_time": "2020-10-13T22:55:41.692821Z"
    }
   },
   "outputs": [],
   "source": [
    "peak_buckets, peak_dist = bucketing(all_peaks_indices, 100, True)"
   ]
  },
  {
   "cell_type": "code",
   "execution_count": 212,
   "metadata": {
    "ExecuteTime": {
     "end_time": "2020-10-13T22:55:46.066493Z",
     "start_time": "2020-10-13T22:55:46.056068Z"
    }
   },
   "outputs": [],
   "source": [
    "peak_dist = sorted(peak_dist.items(), key=lambda item: item[1], reverse=True)"
   ]
  },
  {
   "cell_type": "markdown",
   "metadata": {},
   "source": [
    "## Visualizing Results"
   ]
  },
  {
   "cell_type": "code",
   "execution_count": 102,
   "metadata": {
    "ExecuteTime": {
     "end_time": "2020-10-13T20:40:17.100349Z",
     "start_time": "2020-10-13T20:40:17.086300Z"
    }
   },
   "outputs": [],
   "source": [
    "def visualize(prices, buckets, maximas, minimas):\n",
    "    plt.plot(prices.values)\n",
    "    plt.plot(maximas, prices[maximas], 'o')\n",
    "    plt.plot(minimas, prices[minimas], 'x')\n",
    "    plt.legend(['close', 'sell', 'buy'])\n",
    "    plt.show()"
   ]
  },
  {
   "cell_type": "code",
   "execution_count": 103,
   "metadata": {
    "ExecuteTime": {
     "end_time": "2020-10-13T20:40:18.523234Z",
     "start_time": "2020-10-13T20:40:18.194947Z"
    }
   },
   "outputs": [
    {
     "data": {
      "image/png": "[encoded data removed]",
      "text/plain": [
       "<Figure size 1152x720 with 1 Axes>"
      ]
     },
     "metadata": {},
     "output_type": "display_data"
    }
   ],
   "source": [
    "visualize(close_windowed, buckets, maximas, minimas)"
   ]
  },
  {
   "cell_type": "code",
   "execution_count": null,
   "metadata": {},
   "outputs": [],
   "source": []
  }
 ],
 "metadata": {
  "kernelspec": {
   "display_name": "Python 3",
   "language": "python",
   "name": "python3"
  },
  "language_info": {
   "codemirror_mode": {
    "name": "ipython",
    "version": 3
   },
   "file_extension": ".py",
   "mimetype": "text/x-python",
   "name": "python",
   "nbconvert_exporter": "python",
   "pygments_lexer": "ipython3",
   "version": "3.6.9"
  }
 },
 "nbformat": 4,
 "nbformat_minor": 2
}
